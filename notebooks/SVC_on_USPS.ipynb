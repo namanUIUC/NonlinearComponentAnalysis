{
 "cells": [
  {
   "cell_type": "markdown",
   "metadata": {},
   "source": [
    "# USPS Handwriting Dataset Recognition"
   ]
  },
  {
   "attachments": {},
   "cell_type": "markdown",
   "metadata": {},
   "source": [
    "#### The dataset refers to numeric data obtained from the scanning of handwritten digits from envelopes by the U.S. Postal Service. The original scanned digits are binary and of different sizes and orientations; the images here have been deslanted and size normalized, resulting in 16 x 16 grayscale images (Le Cun et al., 1990). There are 7291 training observations and 2007 test observations. \n",
    "\n",
    "| Digit | Label |\n",
    "|-------|-------|\n",
    "| 0     | 10    |\n",
    "| 1     | 1     |\n",
    "| 2     | 2     |\n",
    "| 3     | 3     |\n",
    "| 4     | 4     |\n",
    "| 5     | 5     |\n",
    "| 6     | 6     |\n",
    "| 7     | 7     |\n",
    "| 8     | 8     |\n",
    "| 9     | 9     |\n",
    "\n"
   ]
  },
  {
   "cell_type": "code",
   "execution_count": 1,
   "metadata": {
    "collapsed": true
   },
   "outputs": [],
   "source": [
    "import numpy as np\n",
    "import scipy as sp\n",
    "from sklearn import svm\n",
    "from scipy import ndimage\n",
    "from sklearn import metrics\n",
    "from numpy import genfromtxt\n",
    "import matplotlib.pyplot as plt\n",
    "from sklearn import preprocessing\n",
    "from sklearn.decomposition import PCA, KernelPCA"
   ]
  },
  {
   "cell_type": "markdown",
   "metadata": {},
   "source": [
    "### Train.csv and Test.csv contain a 8000x257 and a 3000x257 matrix, each entry is the pixel value in the image with the label on the first column. "
   ]
  },
  {
   "cell_type": "code",
   "execution_count": 2,
   "metadata": {},
   "outputs": [
    {
     "name": "stdout",
     "output_type": "stream",
     "text": [
      "Dimension of Training set: 8000 x 256\n",
      "Dimension of Test set : 3000 x 256\n"
     ]
    }
   ],
   "source": [
    "# Load data\n",
    "train = genfromtxt('/Users/macbookpro/Desktop/Train.csv', delimiter=',')\n",
    "test = genfromtxt('/Users/macbookpro/Desktop/Test.csv', delimiter=',')\n",
    "\n",
    "\n",
    "# Shuffle the training/test set\n",
    "np.random.shuffle(train)\n",
    "np.random.shuffle(test)\n",
    "\n",
    "\n",
    "# Extract labels from training/test set\n",
    "label_train = np.array([int(1+train[i][0]) for i in range(train.shape[0])])\n",
    "label_test = np.array([int(1+test[i][0]) for i in range(test.shape[0])])\n",
    "\n",
    "\n",
    "# Reshape training/test dataset\n",
    "train = train[:,1:257]\n",
    "test = test[:,1:257]\n",
    "\n",
    "\n",
    "# Show the dimension of training/test set\n",
    "print (\"Dimension of Training set: \" + str(train.shape[0]) + \" x \" + str(train.shape[1]))\n",
    "print (\"Dimension of Test set : \" + str(test.shape[0]) + \" x \" + str(test.shape[1]))"
   ]
  },
  {
   "cell_type": "markdown",
   "metadata": {},
   "source": [
    "## Have a glimpse of the sample images"
   ]
  },
  {
   "cell_type": "code",
   "execution_count": 3,
   "metadata": {},
   "outputs": [
    {
     "data": {
      "image/png": "[encoded data removed]",
      "text/plain": [
       "<matplotlib.figure.Figure at 0x11aa9fc88>"
      ]
     },
     "metadata": {},
     "output_type": "display_data"
    }
   ],
   "source": [
    "# Variable for the location of subplot\n",
    "i = 1\n",
    "\n",
    "\n",
    "# Plotting \n",
    "for index in range(8):\n",
    "    img = test[index].reshape(16, 16)\n",
    "    rotated_img = sp.ndimage.rotate(img, 90)\n",
    "    plt.subplot(2, 4, i)\n",
    "    plt.axis('off')\n",
    "    plt.imshow(rotated_img, cmap=plt.cm.gray, origin='lower')\n",
    "    plt.title('Training: ' + str(label_test[index]))\n",
    "    i = i + 1\n",
    "\n",
    "plt.show()\n"
   ]
  },
  {
   "cell_type": "markdown",
   "metadata": {},
   "source": [
    "## Perform SVC with Linear Kernel on the original images"
   ]
  },
  {
   "cell_type": "code",
   "execution_count": 4,
   "metadata": {
    "scrolled": true
   },
   "outputs": [
    {
     "data": {
      "text/plain": [
       "SVC(C=1.0, cache_size=200, class_weight=None, coef0=0.0,\n",
       "  decision_function_shape='ovr', degree=3, gamma='auto', kernel='linear',\n",
       "  max_iter=-1, probability=False, random_state=None, shrinking=True,\n",
       "  tol=0.001, verbose=False)"
      ]
     },
     "execution_count": 4,
     "metadata": {},
     "output_type": "execute_result"
    }
   ],
   "source": [
    "# Concatenate two matrix in order to perform PCA and Kernel PCA later\n",
    "comb = np.concatenate((train, test), axis=0)\n",
    "\n",
    "\n",
    "# Apply Scaling to X_train and X_test\n",
    "std_scale1 = preprocessing.StandardScaler().fit(train)\n",
    "train_std = std_scale1.transform(train)\n",
    "\n",
    "std_scale2 = preprocessing.StandardScaler().fit(test)\n",
    "test_std = std_scale2.transform(test)\n",
    "\n",
    "\n",
    "# SVC\n",
    "clf = svm.SVC(kernel='linear') \n",
    "clf.fit(train_std, label_train)"
   ]
  },
  {
   "cell_type": "code",
   "execution_count": 5,
   "metadata": {},
   "outputs": [
    {
     "name": "stdout",
     "output_type": "stream",
     "text": [
      "Classification report for classifier SVC(C=1.0, cache_size=200, class_weight=None, coef0=0.0,\n",
      "  decision_function_shape='ovr', degree=3, gamma='auto', kernel='linear',\n",
      "  max_iter=-1, probability=False, random_state=None, shrinking=True,\n",
      "  tol=0.001, verbose=False):\n",
      "             precision    recall  f1-score   support\n",
      "\n",
      "          1       0.93      0.99      0.96       300\n",
      "          2       0.91      0.94      0.92       300\n",
      "          3       0.91      0.92      0.91       300\n",
      "          4       0.93      0.96      0.95       300\n",
      "          5       0.92      0.90      0.91       300\n",
      "          6       0.97      0.95      0.96       300\n",
      "          7       0.97      0.97      0.97       300\n",
      "          8       0.94      0.90      0.92       300\n",
      "          9       0.97      0.94      0.95       300\n",
      "         10       0.99      0.95      0.97       300\n",
      "\n",
      "avg / total       0.94      0.94      0.94      3000\n",
      "\n",
      "\n"
     ]
    }
   ],
   "source": [
    "# Now predict the value of the digit on the test set:\n",
    "expected = label_test\n",
    "predicted = clf.predict(test_std)\n",
    "\n",
    "\n",
    "# Print summaries of the classifier\n",
    "print(\"Classification report for classifier %s:\\n%s\\n\"\n",
    "      % (clf, metrics.classification_report(expected, predicted)))"
   ]
  },
  {
   "cell_type": "markdown",
   "metadata": {
    "collapsed": true
   },
   "source": [
    "## Perform SVC with polynimial kernel on the original images"
   ]
  },
  {
   "cell_type": "code",
   "execution_count": 6,
   "metadata": {},
   "outputs": [
    {
     "data": {
      "text/plain": [
       "SVC(C=1.0, cache_size=200, class_weight=None, coef0=0.0,\n",
       "  decision_function_shape='ovr', degree=3, gamma='auto', kernel='poly',\n",
       "  max_iter=-1, probability=False, random_state=None, shrinking=True,\n",
       "  tol=0.001, verbose=False)"
      ]
     },
     "execution_count": 6,
     "metadata": {},
     "output_type": "execute_result"
    }
   ],
   "source": [
    "# Poly SVC with default degree=3\n",
    "clf = svm.SVC(kernel='poly')\n",
    "clf.fit(train_std, label_train)"
   ]
  },
  {
   "cell_type": "code",
   "execution_count": 7,
   "metadata": {},
   "outputs": [
    {
     "name": "stdout",
     "output_type": "stream",
     "text": [
      "Classification report for classifier SVC(C=1.0, cache_size=200, class_weight=None, coef0=0.0,\n",
      "  decision_function_shape='ovr', degree=3, gamma='auto', kernel='poly',\n",
      "  max_iter=-1, probability=False, random_state=None, shrinking=True,\n",
      "  tol=0.001, verbose=False):\n",
      "             precision    recall  f1-score   support\n",
      "\n",
      "          1       0.98      0.99      0.98       300\n",
      "          2       0.96      0.97      0.97       300\n",
      "          3       0.98      0.98      0.98       300\n",
      "          4       0.97      0.99      0.98       300\n",
      "          5       0.95      0.99      0.97       300\n",
      "          6       0.99      0.95      0.97       300\n",
      "          7       0.99      0.98      0.98       300\n",
      "          8       0.93      0.94      0.94       300\n",
      "          9       0.98      0.98      0.98       300\n",
      "         10       0.99      0.97      0.98       300\n",
      "\n",
      "avg / total       0.97      0.97      0.97      3000\n",
      "\n",
      "\n"
     ]
    }
   ],
   "source": [
    "# Now predict the value of the digit on the test set:\n",
    "expected = label_test\n",
    "predicted = clf.predict(test_std)\n",
    "\n",
    "\n",
    "# Print summaries of the classifier\n",
    "print(\"Classification report for classifier %s:\\n%s\\n\"\n",
    "      % (clf, metrics.classification_report(expected, predicted)))\n"
   ]
  },
  {
   "cell_type": "code",
   "execution_count": 8,
   "metadata": {},
   "outputs": [
    {
     "data": {
      "image/png": "[encoded data removed]",
      "text/plain": [
       "<matplotlib.figure.Figure at 0x11acdffd0>"
      ]
     },
     "metadata": {},
     "output_type": "display_data"
    }
   ],
   "source": [
    "# Variable for the location of subplot\n",
    "i = 1\n",
    "\n",
    "\n",
    "# Plotting\n",
    "for index in range(8):\n",
    "    img = test_std[index].reshape(16, 16)\n",
    "    rotated_img = sp.ndimage.rotate(img, 90)\n",
    "    plt.subplot(2, 4, i)\n",
    "    plt.axis('off')\n",
    "    plt.imshow(rotated_img, cmap=plt.cm.gray, origin='lower')\n",
    "    plt.title('P: ' + str(predicted[index]) + ' T: ' + str(label_test[index]))\n",
    "    i = i + 1\n",
    "\n",
    "plt.show()\n"
   ]
  },
  {
   "cell_type": "markdown",
   "metadata": {
    "collapsed": true
   },
   "source": [
    "## Perform Linear PCA, and SVC with Linear Kernel"
   ]
  },
  {
   "cell_type": "code",
   "execution_count": 9,
   "metadata": {},
   "outputs": [
    {
     "name": "stdout",
     "output_type": "stream",
     "text": [
      "(8000, 197)\n",
      "(3000, 197)\n"
     ]
    }
   ],
   "source": [
    "dimTrain = train.shape\n",
    "dimTest = test.shape\n",
    "\n",
    "\n",
    "# Concatenate two matrix in order to perform PCA and Kernel PCA later\n",
    "comb = np.concatenate((train, test), axis=0)\n",
    "\n",
    "\n",
    "# Apply Scaling to X_train and X_test\n",
    "# Standardize features by removing the mean and scaling to unit variance\n",
    "std_scale = preprocessing.StandardScaler().fit(comb)\n",
    "comb_std = std_scale.transform(comb)\n",
    "\n",
    "\n",
    "# Perform PCA\n",
    "pca = PCA(n_components=256).fit(comb_std)\n",
    "comb_pca = pca.transform(comb_std)\n",
    "\n",
    "\n",
    "ratio = 0\n",
    "count = 0\n",
    "for i in pca.explained_variance_ratio_:\n",
    "    ratio += i\n",
    "    count +=1\n",
    "    if ratio >= 0.99:\n",
    "        p = count\n",
    "        break\n",
    "        \n",
    "\n",
    "new_train = comb_pca[0:dimTrain[0],0:p]\n",
    "new_test = comb_pca[dimTrain[0]:dimTrain[0]+dimTest[0],0:p]\n",
    "print(new_train.shape)\n",
    "print(new_test.shape)\n"
   ]
  },
  {
   "cell_type": "code",
   "execution_count": 10,
   "metadata": {},
   "outputs": [
    {
     "data": {
      "text/plain": [
       "SVC(C=1.0, cache_size=200, class_weight=None, coef0=0.0,\n",
       "  decision_function_shape='ovr', degree=3, gamma='auto', kernel='linear',\n",
       "  max_iter=-1, probability=False, random_state=None, shrinking=True,\n",
       "  tol=0.001, verbose=False)"
      ]
     },
     "execution_count": 10,
     "metadata": {},
     "output_type": "execute_result"
    }
   ],
   "source": [
    "# Poly SVC with degree=3 Polynomial Kernel\n",
    "clf = svm.SVC(kernel='linear')\n",
    "clf.fit(new_train, label_train)"
   ]
  },
  {
   "cell_type": "code",
   "execution_count": 11,
   "metadata": {},
   "outputs": [
    {
     "name": "stdout",
     "output_type": "stream",
     "text": [
      "Classification report for classifier SVC(C=1.0, cache_size=200, class_weight=None, coef0=0.0,\n",
      "  decision_function_shape='ovr', degree=3, gamma='auto', kernel='linear',\n",
      "  max_iter=-1, probability=False, random_state=None, shrinking=True,\n",
      "  tol=0.001, verbose=False):\n",
      "             precision    recall  f1-score   support\n",
      "\n",
      "          1       0.92      0.99      0.95       300\n",
      "          2       0.91      0.94      0.93       300\n",
      "          3       0.90      0.93      0.92       300\n",
      "          4       0.93      0.97      0.95       300\n",
      "          5       0.95      0.89      0.92       300\n",
      "          6       0.98      0.95      0.96       300\n",
      "          7       0.97      0.96      0.97       300\n",
      "          8       0.94      0.90      0.92       300\n",
      "          9       0.96      0.94      0.95       300\n",
      "         10       0.98      0.96      0.97       300\n",
      "\n",
      "avg / total       0.94      0.94      0.94      3000\n",
      "\n",
      "\n"
     ]
    }
   ],
   "source": [
    "# Now predict on the test set\n",
    "expected = label_test\n",
    "predicted = clf.predict(new_test)\n",
    "\n",
    "\n",
    "print(\"Classification report for classifier %s:\\n%s\\n\"\n",
    "      % (clf, metrics.classification_report(expected, predicted)))\n"
   ]
  },
  {
   "cell_type": "markdown",
   "metadata": {},
   "source": [
    "## Perform KernelPCA and with SVC Linear Kernel"
   ]
  },
  {
   "cell_type": "code",
   "execution_count": 12,
   "metadata": {
    "collapsed": true
   },
   "outputs": [],
   "source": [
    "# Perform Kernel PCA with Polynomial Kernel \n",
    "kpca = KernelPCA(n_components=1000, kernel='poly', degree=3, fit_inverse_transform=True).fit(comb_std)\n",
    "comb_kpca = kpca.transform(comb_std)\n",
    "\n",
    "\n",
    "lamda = kpca.lambdas_\n",
    "eigVar = 0\n",
    "count = 0\n",
    "for eigen in lamda:\n",
    "    count += 1;\n",
    "    eigVar += eigen / sum(lamda)\n",
    "    if eigVar >= 0.99:\n",
    "        p = count\n",
    "        break\n",
    "        "
   ]
  },
  {
   "cell_type": "code",
   "execution_count": 13,
   "metadata": {
    "scrolled": true
   },
   "outputs": [
    {
     "name": "stdout",
     "output_type": "stream",
     "text": [
      "(8000, 922)\n",
      "(3000, 922)\n"
     ]
    }
   ],
   "source": [
    "new_train = comb_kpca[0:dimTrain[0],0:p]\n",
    "new_test = comb_kpca[dimTrain[0]:dimTrain[0]+dimTest[0],0:p]\n",
    "print(new_train.shape)\n",
    "print(new_test.shape)"
   ]
  },
  {
   "cell_type": "code",
   "execution_count": 14,
   "metadata": {},
   "outputs": [
    {
     "name": "stdout",
     "output_type": "stream",
     "text": [
      "Classification report for classifier SVC(C=1.0, cache_size=200, class_weight=None, coef0=0.0,\n",
      "  decision_function_shape='ovr', degree=3, gamma='auto', kernel='linear',\n",
      "  max_iter=-1, probability=False, random_state=None, shrinking=True,\n",
      "  tol=0.001, verbose=False):\n",
      "             precision    recall  f1-score   support\n",
      "\n",
      "          1       0.97      0.99      0.98       300\n",
      "          2       0.94      0.97      0.96       300\n",
      "          3       0.97      0.97      0.97       300\n",
      "          4       0.97      0.99      0.98       300\n",
      "          5       0.98      0.96      0.97       300\n",
      "          6       0.99      0.96      0.98       300\n",
      "          7       0.99      0.98      0.98       300\n",
      "          8       0.94      0.95      0.94       300\n",
      "          9       0.98      0.98      0.98       300\n",
      "         10       1.00      0.98      0.99       300\n",
      "\n",
      "avg / total       0.97      0.97      0.97      3000\n",
      "\n",
      "\n"
     ]
    }
   ],
   "source": [
    "# Perform SVC with linear Kernel\n",
    "clf = svm.SVC(kernel='linear') \n",
    "clf.fit(new_train, label_train)\n",
    "\n",
    "\n",
    "# Now predict the value of the digit on the test data:\n",
    "expected = label_test\n",
    "predicted = clf.predict(new_test)\n",
    "\n",
    "\n",
    "print(\"Classification report for classifier %s:\\n%s\\n\"\n",
    "      % (clf, metrics.classification_report(label_test, predicted)))\n"
   ]
  },
  {
   "cell_type": "markdown",
   "metadata": {},
   "source": [
    "## Below are the summary of precision and recall got by SVC with Linear Kernel\n",
    "\n",
    "|                             | precision | recall | f1-score | support |\n",
    "|-----------------------------|-----------|--------|----------|---------|\n",
    "| Original images             | 0.94      | 0.94   | 0.94     | 3000    |\n",
    "| Linear PCA                  | 0.94      | 0.94   | 0.94     | 3000    |\n",
    "| Kernel PCA                  | 0.97      | 0.97   | 0.97     | 3000    |\n",
    "\n",
    "\n",
    "#### Precision :   True positives / Predicted positives   notation : P\n",
    "#### Recall:         True positives / Actual positives      notation : R\n",
    "#### F1-score:     $\\frac{2PR}{P+R}$"
   ]
  },
  {
   "cell_type": "code",
   "execution_count": null,
   "metadata": {
    "collapsed": true
   },
   "outputs": [],
   "source": []
  }
 ],
 "metadata": {
  "kernelspec": {
   "display_name": "Python 3",
   "language": "python",
   "name": "python3"
  },
  "language_info": {
   "codemirror_mode": {
    "name": "ipython",
    "version": 3
   },
   "file_extension": ".py",
   "mimetype": "text/x-python",
   "name": "python",
   "nbconvert_exporter": "python",
   "pygments_lexer": "ipython3",
   "version": "3.6.1"
  }
 },
 "nbformat": 4,
 "nbformat_minor": 2
}
